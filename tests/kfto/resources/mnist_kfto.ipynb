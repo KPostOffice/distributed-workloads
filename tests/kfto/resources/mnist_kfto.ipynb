{
 "cells": [
  {
   "cell_type": "code",
   "execution_count": 41,
   "id": "b55bc3ea-4ce3-49bf-bb1f-e209de8ca47a",
   "metadata": {
    "tags": []
   },
   "outputs": [],
   "source": [
    "from kfto_sdk_mnist import train_func_2\n",
    "from kubeflow.training import TrainingClient\n",
    "from kubernetes import client\n",
    "import time"
   ]
  },
  {
   "cell_type": "code",
   "execution_count": null,
   "id": "72dd1751",
   "metadata": {},
   "outputs": [],
   "source": [
    "# parameters\n",
    "num_gpus = \"${num_gpus}\"\n",
    "train_function = \"${train_function}\"\n",
    "openshift_api_url = \"${api_url}\"\n",
    "namespace = \"${namespace}\"\n",
    "token = \"${token}\"\n",
    "password =  \"${password}\""
   ]
  },
  {
   "cell_type": "code",
   "execution_count": null,
   "id": "4ca70b20",
   "metadata": {},
   "outputs": [],
   "source": [
    "config = client.Configuration(host=openshift_api_url, api_key=token)\n",
    "config.verify_ssl = False\n",
    "client = TrainingClient(client_configuration=config)"
   ]
  },
  {
   "cell_type": "code",
   "execution_count": 44,
   "id": "a208eeac",
   "metadata": {},
   "outputs": [
    {
     "ename": "AttributeError",
     "evalue": "module 'kubernetes.client' has no attribute 'create_job'",
     "output_type": "error",
     "traceback": [
      "\u001b[0;31m---------------------------------------------------------------------------\u001b[0m",
      "\u001b[0;31mAttributeError\u001b[0m                            Traceback (most recent call last)",
      "Cell \u001b[0;32mIn[44], line 1\u001b[0m\n\u001b[0;32m----> 1\u001b[0m \u001b[43mclient\u001b[49m\u001b[38;5;241;43m.\u001b[39;49m\u001b[43mcreate_job\u001b[49m(\n\u001b[1;32m      2\u001b[0m    name\u001b[38;5;241m=\u001b[39m\u001b[38;5;124m\"\u001b[39m\u001b[38;5;124mpytorch-ddp\u001b[39m\u001b[38;5;124m\"\u001b[39m,\n\u001b[1;32m      3\u001b[0m    namespace\u001b[38;5;241m=\u001b[39m\u001b[38;5;124m\"\u001b[39m\u001b[38;5;124mkf-conformance\u001b[39m\u001b[38;5;124m\"\u001b[39m,\n\u001b[1;32m      4\u001b[0m    train_func\u001b[38;5;241m=\u001b[39mtrain_function,\n\u001b[1;32m      5\u001b[0m    num_workers\u001b[38;5;241m=\u001b[39m\u001b[38;5;241m2\u001b[39m,\n\u001b[1;32m      6\u001b[0m    resources_per_worker\u001b[38;5;241m=\u001b[39m{\u001b[38;5;124m\"\u001b[39m\u001b[38;5;124mgpu\u001b[39m\u001b[38;5;124m\"\u001b[39m: num_gpus},\n\u001b[1;32m      7\u001b[0m )\n",
      "\u001b[0;31mAttributeError\u001b[0m: module 'kubernetes.client' has no attribute 'create_job'"
     ]
    }
   ],
   "source": [
    "\n",
    "client.create_job(\n",
    "   name=\"pytorch-ddp\",\n",
    "   namespace=namespace,\n",
    "   train_func=train_function,\n",
    "   num_workers=2,\n",
    "   resources_per_worker={\"gpu\": num_gpus},\n",
    ")"
   ]
  },
  {
   "cell_type": "code",
   "execution_count": 28,
   "id": "c720fcf7",
   "metadata": {},
   "outputs": [
    {
     "name": "stderr",
     "output_type": "stream",
     "text": [
      "/home/kpostoffice/.pyenv/versions/kfto-testing/lib/python3.11/site-packages/urllib3/connectionpool.py:1097: InsecureRequestWarning: Unverified HTTPS request is being made to host 'api.ods-qe-psi-05.osp.rh-ods.com'. Adding certificate verification is strongly advised. See: https://urllib3.readthedocs.io/en/latest/advanced-usage.html#tls-warnings\n",
      "  warnings.warn(\n"
     ]
    }
   ],
   "source": [
    "while not client.is_job_succeeded(name=\"pytorch-ddp\", namespace=namespace) {\n",
    "    time.sleep(1)\n",
    "}"
   ]
  },
  {
   "cell_type": "code",
   "execution_count": 40,
   "id": "4754bdaa",
   "metadata": {},
   "outputs": [
    {
     "name": "stderr",
     "output_type": "stream",
     "text": [
      "/home/kpostoffice/.pyenv/versions/kfto-testing/lib/python3.11/site-packages/urllib3/connectionpool.py:1097: InsecureRequestWarning: Unverified HTTPS request is being made to host 'api.ods-qe-psi-05.osp.rh-ods.com'. Adding certificate verification is strongly advised. See: https://urllib3.readthedocs.io/en/latest/advanced-usage.html#tls-warnings\n",
      "  warnings.warn(\n"
     ]
    },
    {
     "data": {
      "text/plain": [
       "True"
      ]
     },
     "execution_count": 40,
     "metadata": {},
     "output_type": "execute_result"
    }
   ],
   "source": [
    "TrainingClient().delete_job(\n",
    "    name=\"pytorch-ddp\",\n",
    "    namespace=namespace,\n",
    ")"
   ]
  }
 ],
 "metadata": {
  "kernelspec": {
   "display_name": "kfto-testing",
   "language": "python",
   "name": "python3"
  },
  "language_info": {
   "codemirror_mode": {
    "name": "ipython",
    "version": 3
   },
   "file_extension": ".py",
   "mimetype": "text/x-python",
   "name": "python",
   "nbconvert_exporter": "python",
   "pygments_lexer": "ipython3",
   "version": "3.11.10"
  }
 },
 "nbformat": 4,
 "nbformat_minor": 5
}
