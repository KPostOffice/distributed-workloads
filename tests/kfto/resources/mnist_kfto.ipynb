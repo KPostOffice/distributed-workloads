{
 "cells": [
  {
   "cell_type": "code",
   "execution_count": 21,
   "id": "b55bc3ea-4ce3-49bf-bb1f-e209de8ca47a",
   "metadata": {
    "tags": []
   },
   "outputs": [],
   "source": [
    "from mnist import main\n",
    "from kubeflow.training import TrainingClient"
   ]
  },
  {
   "cell_type": "code",
   "execution_count": 22,
   "id": "a208eeac",
   "metadata": {},
   "outputs": [
    {
     "name": "stderr",
     "output_type": "stream",
     "text": [
      "/home/kpostoffice/.pyenv/versions/kfto-testing/lib/python3.11/site-packages/urllib3/connectionpool.py:1097: InsecureRequestWarning: Unverified HTTPS request is being made to host 'api.ods-qe-psi-05.osp.rh-ods.com'. Adding certificate verification is strongly advised. See: https://urllib3.readthedocs.io/en/latest/advanced-usage.html#tls-warnings\n",
      "  warnings.warn(\n"
     ]
    }
   ],
   "source": [
    "job = TrainingClient().create_job(\n",
    "    name=\"pytorch-ddp\",\n",
    "    train_func=main,\n",
    "    num_procs_per_worker=\"auto\",\n",
    "    num_workers=3,\n",
    "    parameters={},\n",
    "    base_image=\"quay.io/rhoai/ray:2.35.0-py311-cu121-torch24-fa26\",\n",
    "    packages_to_install=[  # NOTE extra index doesn't seem to be possible for ROCm packages from what I can tell only a single index can be specified\n",
    "                           # see here: https://github.com/kubeflow/training-operator/blob/6a898861d9a85266240ecfefc6574fe5fc7c3063/sdk/python/kubeflow/training/api/training_client.py#L338\n",
    "                           # There is the environment variable PIP_EXTRA_INDEX_URL which can be used instead. Adding this functionality to kfto-sdk might be a good idea\n",
    "        \"pytorch_lightning==1.9.5\",\n",
    "        \"ray_lightning\",\n",
    "        \"torchmetrics==0.9.1\",\n",
    "        \"torchvision==0.19.0\",\n",
    "        \"minio\",\n",
    "    ]\n",
    ")"
   ]
  },
  {
   "cell_type": "code",
   "execution_count": 24,
   "id": "d95a7975",
   "metadata": {},
   "outputs": [
    {
     "name": "stderr",
     "output_type": "stream",
     "text": [
      "/home/kpostoffice/.pyenv/versions/kfto-testing/lib/python3.11/site-packages/urllib3/connectionpool.py:1097: InsecureRequestWarning: Unverified HTTPS request is being made to host 'api.ods-qe-psi-05.osp.rh-ods.com'. Adding certificate verification is strongly advised. See: https://urllib3.readthedocs.io/en/latest/advanced-usage.html#tls-warnings\n",
      "  warnings.warn(\n",
      "/home/kpostoffice/.pyenv/versions/kfto-testing/lib/python3.11/site-packages/urllib3/connectionpool.py:1097: InsecureRequestWarning: Unverified HTTPS request is being made to host 'api.ods-qe-psi-05.osp.rh-ods.com'. Adding certificate verification is strongly advised. See: https://urllib3.readthedocs.io/en/latest/advanced-usage.html#tls-warnings\n",
      "  warnings.warn(\n"
     ]
    },
    {
     "data": {
      "text/plain": [
       "({'pytorch-ddp-master-0': \"WARNING: The directory '/.cache/pip' or its parent directory is not owned or is not writable by the current user. The cache has been disabled. Check the permissions and owner of that directory. If executing pip with sudo, you should use sudo's -H flag.\\nERROR: Could not install packages due to an OSError: [Errno 13] Permission denied: '/.local'\\nCheck the permissions.\\n\\nbash: line 8: nccl: command not found\\n\"},\n",
       " {})"
      ]
     },
     "execution_count": 24,
     "metadata": {},
     "output_type": "execute_result"
    }
   ],
   "source": [
    "TrainingClient().get_job_logs(\"pytorch-ddp\")"
   ]
  },
  {
   "cell_type": "code",
   "execution_count": 25,
   "id": "89ddd7f7",
   "metadata": {},
   "outputs": [
    {
     "name": "stderr",
     "output_type": "stream",
     "text": [
      "/home/kpostoffice/.pyenv/versions/kfto-testing/lib/python3.11/site-packages/urllib3/connectionpool.py:1097: InsecureRequestWarning: Unverified HTTPS request is being made to host 'api.ods-qe-psi-05.osp.rh-ods.com'. Adding certificate verification is strongly advised. See: https://urllib3.readthedocs.io/en/latest/advanced-usage.html#tls-warnings\n",
      "  warnings.warn(\n"
     ]
    }
   ],
   "source": [
    "TrainingClient().delete_job(name=\"pytorch-ddp\")"
   ]
  }
 ],
 "metadata": {
  "kernelspec": {
   "display_name": "kfto-testing",
   "language": "python",
   "name": "python3"
  },
  "language_info": {
   "codemirror_mode": {
    "name": "ipython",
    "version": 3
   },
   "file_extension": ".py",
   "mimetype": "text/x-python",
   "name": "python",
   "nbconvert_exporter": "python",
   "pygments_lexer": "ipython3",
   "version": "3.11.10"
  }
 },
 "nbformat": 4,
 "nbformat_minor": 5
}
